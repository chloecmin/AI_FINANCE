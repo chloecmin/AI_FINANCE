{
 "cells": [
  {
   "cell_type": "markdown",
   "metadata": {},
   "source": [
    "# Named Entity Recognition"
   ]
  },
  {
   "cell_type": "markdown",
   "metadata": {},
   "source": [
    "- Named Entity Recognition은 문장 내에 존재하는 명사(noun)을 추출하기 위한 방법으로 이 역시 머신러닝을 사용합니다.\n",
    "- 여기서는 내용이 복잡하여 개념적인 내용만을 소개 합니다.(이런거다는 것만 아시면 됩니다.)"
   ]
  },
  {
   "cell_type": "markdown",
   "metadata": {},
   "source": [
    "- Unstructured text에서 pre-defined categories(Person, Organization등)로 named entity의 위치를 detect 및 classify하는 information extraction의 하위 영역의 하나로, entity chunking/entity extraction이라고도 함. \n",
    "- 이를 위한 notation 기법으로 IOB notation기법이 사용.\n"
   ]
  },
  {
   "cell_type": "markdown",
   "metadata": {},
   "source": [
    "<p align=\"center\"><img src=\"img/030_text_ml_iob_notation.png\" alt=\"Drawing\" style=\"width: 800px; height: 350px; align:center\"/></p>"
   ]
  },
  {
   "cell_type": "markdown",
   "metadata": {},
   "source": [
    "<p align=\"center\"><img src=\"img/031_text_ml_bilstm_crf1.png\" alt=\"Drawing\" style=\"width: 950px; height: 500px; align:center\"/></p>"
   ]
  },
  {
   "cell_type": "markdown",
   "metadata": {},
   "source": [
    "<p align=\"center\"><img src=\"img/032_text_ml_bilstm_crf2.png\" alt=\"Drawing\" style=\"width: 950px; height: 500px; align:center\"/></p>"
   ]
  },
  {
   "cell_type": "markdown",
   "metadata": {},
   "source": [
    "<p align=\"center\"><img src=\"img/033_text_ml_bilstm_crf3.png\" alt=\"Drawing\" style=\"width: 950px; height: 500px; align:center\"/></p>"
   ]
  },
  {
   "cell_type": "code",
   "execution_count": null,
   "metadata": {},
   "outputs": [],
   "source": []
  }
 ],
 "metadata": {
  "kernelspec": {
   "display_name": "Python 3",
   "language": "python",
   "name": "python3"
  },
  "language_info": {
   "codemirror_mode": {
    "name": "ipython",
    "version": 3
   },
   "file_extension": ".py",
   "mimetype": "text/x-python",
   "name": "python",
   "nbconvert_exporter": "python",
   "pygments_lexer": "ipython3",
   "version": "3.6.8"
  }
 },
 "nbformat": 4,
 "nbformat_minor": 2
}
