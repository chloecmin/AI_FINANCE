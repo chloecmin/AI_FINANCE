{
 "cells": [
  {
   "cell_type": "markdown",
   "metadata": {},
   "source": [
    "8개로 이뤄진 실제 뉴스 기사에 대하여 각각의 형태소 분석기를 적용해 보겠습니다. "
   ]
  },
  {
   "cell_type": "code",
   "execution_count": 1,
   "metadata": {
    "collapsed": true
   },
   "outputs": [],
   "source": [
    "sents = [\n",
    "'마이크로소프트(MS) 윈도우7 보안 업데이트 중단이 코 앞으로 다가왔지만, 아직도 많은 PC가 윈도우7으로 구동되고 있다. 때문에 이전에 겪었던 윈도우XP 보안 업데이트 중단에 따른 보안 대란이 한 차례 더 재현될 전망이다',\n",
    "'MS는 내년 2020년 1월 14일 윈도우7을 위한 보안 업데이트 지원을 중단한다. 약 300일 정도 남았다. 업데이트 지원이 중단되어도 윈도우7을 사용할 순 있지만, 이후 새로 발견된 보안 취약점으로 악성코드가 침입하는 것을 감수해야 한다.',\n",
    "'원래 MS는 운영체제에서 보안 취약점이 발견되면 해당 취약점으로 악성코드가 침투하지 못하도록 관련 보안 업데이트/패치를 제공했다. 하지만 내년 1월 14일 이후로는 이들 업데이트가 더 이상 제공되지 않는다. 최신 바이러스, 악성코드, 랜섬웨어 공격에 PC가 무방비로 노출되는 셈이다.',\n",
    "'윈도우7의 높은 보급율이 문제다. 국내 PC 10대 가운데 3대는 여전히 윈도우7이 깔려 있다. 보안면에서 상대적으로 안전한 최신 운영체제인 윈도우10은 10대 중 2대에 불과하다. 내년이면 국민 10명 가운데 7명이 온갖 보안위협에 직면하게 된다.',\n",
    "'특히 악성코드가 PC에 침입하면 심각한 피해를 야기할 수 있는 공공기관이나 의료시설, 공장 등에 윈도우7 탑재 PC가 상당히 많다. 윈도우 라이선스나 소프트웨어 호환성 문제 등으로, 당장 윈도우7에서 벗어나지 못하는 실정이기 때문이다.',\n",
    "'MS는 오는 4월부터 윈도우7 관련 보안 지원이 곧 종료된다는 공지를 사용자의 PC에 팝업 창으로 띄울 계획이다. 사용자들에게 경각심을 심어주기 위해서다. 윈도우7 보급율이 높아 내려진 결정이다.',\n",
    "'윈도우7 PC는 윈도우10 PC로 업그레이드해야 한다.윈도우7 PC는 윈도우10 PC로 업그레이드해야 한다. ',\n",
    "'보안 위협을 피하는 가장 확실한 방법은 역시, 운영체제를 최신 버전인 윈도우10으로 업그레이드하는 것이다. MS는 처음 윈도우10이 출시됐을 때 홍보 차원에서 무료 업그레이드 서비스를 제공한 바있다. 현재 무료 업그레이드 서비스는 종료됐고, 재개할 계획은 없다. 따라서 윈도우10을 이용하려면 MS 스토어나 온라인 마켓에서 윈도우10 정품을 구매해야 한다. 물론 소프트웨어 호환성도 이제는 적극 대응해야 할 때다.',\n",
    "'MS 관계자는 \"윈도우10은 최신 운영체제임에도 윈도우7보다 가볍고 빠르다. 보안성도 훨씬 우수하고 호환성 문제 등도 모두 해결되었다\"며, \"남은 1년 기간 동안 윈도우7 PC를 윈도우10 PC로 업그레이드해, 보안 위협으로부터 PC와 파일, 데이터, 자신 등을 지키기를 적극 권장한다\"고 말했다.'\n",
    "]"
   ]
  },
  {
   "cell_type": "code",
   "execution_count": 9,
   "metadata": {
    "collapsed": false
   },
   "outputs": [],
   "source": [
    "from konlpy.tag import Okt\n",
    "\n",
    "twitter = Twitter()"
   ]
  },
  {
   "cell_type": "code",
   "execution_count": 10,
   "metadata": {
    "collapsed": false
   },
   "outputs": [],
   "source": [
    "tokens = [pos for sent in sents for pos in twitter.pos(sent)]"
   ]
  },
  {
   "cell_type": "code",
   "execution_count": 11,
   "metadata": {
    "collapsed": false
   },
   "outputs": [
    {
     "name": "stdout",
     "output_type": "stream",
     "text": [
      "[('마이크로소프트', 'Noun'), ('(', 'Punctuation'), ('MS', 'Alpha'), (')', 'Punctuation'), ('윈도우', 'Noun'), ('7', 'Number'), ('보안', 'Noun'), ('업데이트', 'Noun'), ('중단', 'Noun'), ('이', 'Josa'), ('코', 'Noun'), ('앞', 'Noun'), ('으로', 'Josa'), ('다가왔지만', 'Verb'), (',', 'Punctuation'), ('아직도', 'Adverb'), ('많은', 'Adjective'), ('PC', 'Alpha'), ('가', 'Verb'), ('윈도우', 'Noun'), ('7', 'Number'), ('으로', 'Josa'), ('구동', 'Noun'), ('되고', 'Verb'), ('있다', 'Adjective'), ('.', 'Punctuation'), ('때문', 'Noun'), ('에', 'Josa'), ('이전', 'Noun'), ('에', 'Josa'), ('겪었던', 'Verb'), ('윈도우', 'Noun'), ('XP', 'Alpha'), ('보안', 'Noun'), ('업데이트', 'Noun'), ('중단', 'Noun'), ('에', 'Josa'), ('따른', 'Verb'), ('보안', 'Noun'), ('대란', 'Noun'), ('이', 'Josa'), ('한', 'Verb'), ('차례', 'Noun'), ('더', 'Noun'), ('재현', 'Noun'), ('될', 'Verb'), ('전망', 'Noun'), ('이다', 'Josa'), ('MS', 'Alpha'), ('는', 'Verb')]\n"
     ]
    }
   ],
   "source": [
    "print(tokens[:50])"
   ]
  },
  {
   "cell_type": "markdown",
   "metadata": {},
   "source": [
    "- 각 단어들이 몇 번 등장하였는지 횟수를 카운팅하는 방법을 확인 합니다.\n",
    "- 이 때 가장 좋지 않은 방법인 (1) dict를 이용하는 법, 조금 더 나은 (2) defaultdict를 이용하는 법, (3) collections.Counter를 이용하는 법을 모두 살펴봅니다. "
   ]
  },
  {
   "cell_type": "markdown",
   "metadata": {},
   "source": [
    "#### dict를 이용하는 법"
   ]
  },
  {
   "cell_type": "code",
   "execution_count": 12,
   "metadata": {
    "collapsed": false
   },
   "outputs": [
    {
     "name": "stdout",
     "output_type": "stream",
     "text": [
      "[(('마이크로소프트', 'Noun'), 1), (('(', 'Punctuation'), 1), (('MS', 'Alpha'), 7), ((')', 'Punctuation'), 1), (('윈도우', 'Noun'), 25)] ...\n"
     ]
    }
   ],
   "source": [
    "counter = {}\n",
    "for word in tokens:\n",
    "    if word in counter:\n",
    "        counter[word] = counter[word] + 1 # count 숫자를 증가시킵니다.\n",
    "    else:\n",
    "        counter[word] = 1   \n",
    "\n",
    "print(list(counter.items())[:5], '...') # 상위 5개를 출력해 봅니다."
   ]
  },
  {
   "cell_type": "markdown",
   "metadata": {},
   "source": [
    "정렬은 sorted를 이용합니다. sorted 함수의 key를 통하여 정렬의 기준을 지정할 수 있습니다. \n",
    "\n",
    "- lambda는 이름이 없는 함수를 의미합니다. counter는 dict이므로 keys(), values, items()를 가집니다. \n",
    "- 이 때 items()의 return은 [(key, value), (key, value), ...] 형태이기 때문에 정렬 대상 (key, value)를 x로 볼 때, x의 1번째 값 x[1]을 기준으로 정렬하라는 의미이며, 순서는 1, 2, 3, ..의 오름차순이 아닌 역순으로 하라는 의미입니다. \n",
    "- sorted의 return type은 list이기 때문에 가장 앞쪽의 5개만 slice하여 살펴봅니다. "
   ]
  },
  {
   "cell_type": "code",
   "execution_count": 13,
   "metadata": {
    "collapsed": false
   },
   "outputs": [
    {
     "data": {
      "text/plain": [
       "[(('윈도우', 'Noun'), 25),\n",
       " (('.', 'Punctuation'), 25),\n",
       " (('7', 'Number'), 15),\n",
       " (('PC', 'Alpha'), 13),\n",
       " (('보안', 'Noun'), 12)]"
      ]
     },
     "execution_count": 13,
     "metadata": {},
     "output_type": "execute_result"
    }
   ],
   "source": [
    "# dictinary는 items()일 경우 (key, value)형태로 리턴됩니다. 즉 frequency기준으로 역순으로 정렬하라는 의미입니다.\n",
    "sorted(counter.items(), key=lambda x:x[1], reverse=True)[:5]"
   ]
  },
  {
   "cell_type": "markdown",
   "metadata": {},
   "source": [
    "그런데 Python에서는 if word in counter: else: 와 같은 구문을 한 줄로 아름답게 코딩할 수 있도록 defaultdict를 제공해줍니다. dict.get(key, 0)과 같은 효과가 있습니다. 더해서 명사, tag가 Noun인 단어만 골라서 counting을 해보겠습니다. "
   ]
  },
  {
   "cell_type": "markdown",
   "metadata": {},
   "source": [
    "#### defaultdict를 이용하는 법"
   ]
  },
  {
   "cell_type": "code",
   "execution_count": 16,
   "metadata": {
    "collapsed": false
   },
   "outputs": [
    {
     "name": "stdout",
     "output_type": "stream",
     "text": [
      "[(('윈도우', 'Noun'), 25),\n",
      " (('보안', 'Noun'), 12),\n",
      " (('업데이트', 'Noun'), 6),\n",
      " (('업그레이드', 'Noun'), 6),\n",
      " (('중단', 'Noun'), 4),\n",
      " (('악성코드', 'Noun'), 4),\n",
      " (('운영체제', 'Noun'), 4),\n",
      " (('최신', 'Noun'), 4),\n",
      " (('등', 'Noun'), 4),\n",
      " (('내년', 'Noun'), 3),\n",
      " (('취약점', 'Noun'), 3),\n",
      " (('제공', 'Noun'), 3),\n",
      " (('이', 'Noun'), 3),\n",
      " (('문제', 'Noun'), 3),\n",
      " (('위협', 'Noun'), 3),\n",
      " (('호환성', 'Noun'), 3),\n",
      " (('로', 'Noun'), 3),\n",
      " (('때문', 'Noun'), 2),\n",
      " (('더', 'Noun'), 2),\n",
      " (('위', 'Noun'), 2),\n",
      " (('지원이', 'Noun'), 2),\n",
      " (('이후', 'Noun'), 2),\n",
      " (('발견', 'Noun'), 2),\n",
      " (('침입', 'Noun'), 2),\n",
      " (('것', 'Noun'), 2),\n",
      " (('관련', 'Noun'), 2),\n",
      " (('보급', 'Noun'), 2),\n",
      " (('율', 'Noun'), 2),\n",
      " (('가운데', 'Noun'), 2),\n",
      " (('은', 'Noun'), 2),\n",
      " (('명', 'Noun'), 2),\n",
      " (('소프트웨어', 'Noun'), 2),\n",
      " (('종료', 'Noun'), 2),\n",
      " (('사용자', 'Noun'), 2),\n",
      " (('계획', 'Noun'), 2),\n",
      " (('때', 'Noun'), 2),\n",
      " (('무료', 'Noun'), 2),\n",
      " (('서비스', 'Noun'), 2),\n",
      " (('적극', 'Noun'), 2),\n",
      " (('마이크로소프트', 'Noun'), 1),\n",
      " (('코', 'Noun'), 1),\n",
      " (('앞', 'Noun'), 1),\n",
      " (('구동', 'Noun'), 1),\n",
      " (('이전', 'Noun'), 1),\n",
      " (('대란', 'Noun'), 1),\n",
      " (('차례', 'Noun'), 1),\n",
      " (('재현', 'Noun'), 1),\n",
      " (('전망', 'Noun'), 1),\n",
      " (('지원', 'Noun'), 1),\n",
      " (('약', 'Noun'), 1),\n",
      " (('정도', 'Noun'), 1),\n",
      " (('사용', 'Noun'), 1),\n",
      " (('순', 'Noun'), 1),\n",
      " (('감수', 'Noun'), 1),\n",
      " (('원래', 'Noun'), 1),\n",
      " (('해당', 'Noun'), 1),\n",
      " (('침투', 'Noun'), 1),\n",
      " (('패치', 'Noun'), 1),\n",
      " (('이상', 'Noun'), 1),\n",
      " (('바이러스', 'Noun'), 1),\n",
      " (('랜섬', 'Noun'), 1),\n",
      " (('웨어', 'Noun'), 1),\n",
      " (('공격', 'Noun'), 1),\n",
      " (('무방비', 'Noun'), 1),\n",
      " (('노출', 'Noun'), 1),\n",
      " (('셈', 'Noun'), 1),\n",
      " (('의', 'Noun'), 1),\n",
      " (('국내', 'Noun'), 1),\n",
      " (('보안면', 'Noun'), 1),\n",
      " (('상대', 'Noun'), 1),\n",
      " (('중', 'Noun'), 1),\n",
      " (('이면', 'Noun'), 1),\n",
      " (('국민', 'Noun'), 1),\n",
      " (('온갖', 'Noun'), 1),\n",
      " (('직면', 'Noun'), 1),\n",
      " (('피해', 'Noun'), 1),\n",
      " (('야기', 'Noun'), 1),\n",
      " (('수', 'Noun'), 1),\n",
      " (('공공기관', 'Noun'), 1),\n",
      " (('의료', 'Noun'), 1),\n",
      " (('시설', 'Noun'), 1),\n",
      " (('공장', 'Noun'), 1),\n",
      " (('탑재', 'Noun'), 1),\n",
      " (('라이선스', 'Noun'), 1),\n",
      " (('당장', 'Noun'), 1),\n",
      " (('실정', 'Noun'), 1),\n",
      " (('이기', 'Noun'), 1),\n",
      " (('곧', 'Noun'), 1),\n",
      " (('공지', 'Noun'), 1),\n",
      " (('팝업', 'Noun'), 1),\n",
      " (('창', 'Noun'), 1),\n",
      " (('각심', 'Noun'), 1),\n",
      " (('결정', 'Noun'), 1),\n",
      " (('피하', 'Noun'), 1),\n",
      " (('가장', 'Noun'), 1),\n",
      " (('방법', 'Noun'), 1),\n",
      " (('역시', 'Noun'), 1),\n",
      " (('버전', 'Noun'), 1),\n",
      " (('처음', 'Noun'), 1),\n",
      " (('출시', 'Noun'), 1),\n",
      " (('홍보', 'Noun'), 1),\n",
      " (('차원', 'Noun'), 1),\n",
      " (('바', 'Noun'), 1),\n",
      " (('현재', 'Noun'), 1),\n",
      " (('재개', 'Noun'), 1),\n",
      " (('따라서', 'Noun'), 1),\n",
      " (('이용', 'Noun'), 1),\n",
      " (('스토어', 'Noun'), 1),\n",
      " (('온라인', 'Noun'), 1),\n",
      " (('마켓', 'Noun'), 1),\n",
      " (('정품', 'Noun'), 1),\n",
      " (('구매', 'Noun'), 1),\n",
      " (('이제', 'Noun'), 1),\n",
      " (('대응', 'Noun'), 1),\n",
      " (('관계자', 'Noun'), 1),\n",
      " (('임', 'Noun'), 1),\n",
      " (('성도', 'Noun'), 1),\n",
      " (('모두', 'Noun'), 1),\n",
      " (('해결', 'Noun'), 1),\n",
      " (('며', 'Noun'), 1),\n",
      " (('기간', 'Noun'), 1),\n",
      " (('동안', 'Noun'), 1),\n",
      " (('를', 'Noun'), 1),\n",
      " (('파일', 'Noun'), 1),\n",
      " (('데이터', 'Noun'), 1),\n",
      " (('자신', 'Noun'), 1),\n",
      " (('권장', 'Noun'), 1),\n",
      " (('고', 'Noun'), 1),\n",
      " (('말', 'Noun'), 1)]\n"
     ]
    }
   ],
   "source": [
    "from collections import defaultdict\n",
    "\n",
    "counter = defaultdict(lambda: 0) #기본 frequency를 0으로 초기화 합니다.\n",
    "nouns = [word for word in tokens if word[1] == 'Noun'] # POS Tag가 명사인경우만 체크하여 명사만을 추출한다.\n",
    "\n",
    "for word in nouns:\n",
    "    counter[word] += 1 # key가 단어인 dictionary, value가 frequency가 되는.\n",
    "\n",
    "from pprint import pprint\n",
    "pprint(sorted(counter.items(), key=lambda x:x[1], reverse=True)) # frequency를 기준으로 역순으로 정렬"
   ]
  },
  {
   "cell_type": "markdown",
   "metadata": {},
   "source": [
    "빈도수가 작은 경우도 많아서 좀 복잡해 보입니다. 최소한 2번 이상 나온 명사들만 살펴보겠습니다."
   ]
  },
  {
   "cell_type": "code",
   "execution_count": 17,
   "metadata": {
    "collapsed": false
   },
   "outputs": [
    {
     "name": "stdout",
     "output_type": "stream",
     "text": [
      "[(('윈도우', 'Noun'), 25),\n",
      " (('보안', 'Noun'), 12),\n",
      " (('업데이트', 'Noun'), 6),\n",
      " (('업그레이드', 'Noun'), 6),\n",
      " (('중단', 'Noun'), 4),\n",
      " (('악성코드', 'Noun'), 4),\n",
      " (('운영체제', 'Noun'), 4),\n",
      " (('최신', 'Noun'), 4),\n",
      " (('등', 'Noun'), 4),\n",
      " (('내년', 'Noun'), 3),\n",
      " (('취약점', 'Noun'), 3),\n",
      " (('제공', 'Noun'), 3),\n",
      " (('이', 'Noun'), 3),\n",
      " (('문제', 'Noun'), 3),\n",
      " (('위협', 'Noun'), 3),\n",
      " (('호환성', 'Noun'), 3),\n",
      " (('로', 'Noun'), 3),\n",
      " (('때문', 'Noun'), 2),\n",
      " (('더', 'Noun'), 2),\n",
      " (('위', 'Noun'), 2),\n",
      " (('지원이', 'Noun'), 2),\n",
      " (('이후', 'Noun'), 2),\n",
      " (('발견', 'Noun'), 2),\n",
      " (('침입', 'Noun'), 2),\n",
      " (('것', 'Noun'), 2),\n",
      " (('관련', 'Noun'), 2),\n",
      " (('보급', 'Noun'), 2),\n",
      " (('율', 'Noun'), 2),\n",
      " (('가운데', 'Noun'), 2),\n",
      " (('은', 'Noun'), 2),\n",
      " (('명', 'Noun'), 2),\n",
      " (('소프트웨어', 'Noun'), 2),\n",
      " (('종료', 'Noun'), 2),\n",
      " (('사용자', 'Noun'), 2),\n",
      " (('계획', 'Noun'), 2),\n",
      " (('때', 'Noun'), 2),\n",
      " (('무료', 'Noun'), 2),\n",
      " (('서비스', 'Noun'), 2),\n",
      " (('적극', 'Noun'), 2)]\n"
     ]
    }
   ],
   "source": [
    "counter = {word:freq for word, freq in counter.items() if (freq >= 2) and (word[1] == 'Noun')}\n",
    "pprint(sorted(counter.items(), key=lambda x:x[1], reverse=True))"
   ]
  },
  {
   "cell_type": "markdown",
   "metadata": {},
   "source": [
    "#### Counter를 이용하는 법"
   ]
  },
  {
   "cell_type": "code",
   "execution_count": 18,
   "metadata": {
    "collapsed": false
   },
   "outputs": [
    {
     "name": "stdout",
     "output_type": "stream",
     "text": [
      "[(('윈도우', 'Noun'), 25),\n",
      " (('보안', 'Noun'), 12),\n",
      " (('업데이트', 'Noun'), 6),\n",
      " (('업그레이드', 'Noun'), 6),\n",
      " (('중단', 'Noun'), 4),\n",
      " (('악성코드', 'Noun'), 4),\n",
      " (('운영체제', 'Noun'), 4),\n",
      " (('최신', 'Noun'), 4),\n",
      " (('등', 'Noun'), 4)]\n"
     ]
    }
   ],
   "source": [
    "from collections import Counter\n",
    "\n",
    "counter = Counter(tokens) #('마이크로소프트', 'Noun'), ('중단', 'Noun')....를 입력하면...\n",
    "counter = {word:freq for word, freq in counter.items() if (freq >= 4) and (word[1] == 'Noun')} # frequency가 4이상이면서, 품사가 명사인 대상만 추출\n",
    "pprint(sorted(counter.items(), key=lambda x:x[1], reverse=True))"
   ]
  }
 ],
 "metadata": {
  "kernelspec": {
   "display_name": "Python 3",
   "language": "python",
   "name": "python3"
  },
  "language_info": {
   "codemirror_mode": {
    "name": "ipython",
    "version": 3
   },
   "file_extension": ".py",
   "mimetype": "text/x-python",
   "name": "python",
   "nbconvert_exporter": "python",
   "pygments_lexer": "ipython3",
   "version": "3.7.1"
  }
 },
 "nbformat": 4,
 "nbformat_minor": 2
}
