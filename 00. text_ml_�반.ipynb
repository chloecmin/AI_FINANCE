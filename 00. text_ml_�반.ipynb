{
 "cells": [
  {
   "cell_type": "markdown",
   "metadata": {},
   "source": [
    "# Machine Learning 일반"
   ]
  },
  {
   "cell_type": "markdown",
   "metadata": {},
   "source": [
    "<h2 align=\"left\">[NLP영역 머신러닝 카테고리 분류]</h2> \n",
    "<p align=\"center\"><img src=\"img/037_text_ml_machine_learning.png\" alt=\"Drawing\" style=\"width: 900px; height: 400px; align:center\"/></p>"
   ]
  },
  {
   "cell_type": "markdown",
   "metadata": {},
   "source": [
    "<h2 align=\"left\">[Shallow Architecture vs Deep Architecture]</h2> \n",
    "<p align=\"center\"><img src=\"img/039_text_ml_shallow_deep_architecture.png\" alt=\"Drawing\" style=\"width: 900px; height: 400px; align:center\"/></p>"
   ]
  },
  {
   "cell_type": "markdown",
   "metadata": {},
   "source": [
    "<h2 align=\"left\">[Supervised vs Unsupervised]</h2> \n",
    "<p align=\"center\"><img src=\"img/040_text_ml_supervised_unsupervised.png\" alt=\"Drawing\" style=\"width: 900px; height: 700px; align:center\"/></p>"
   ]
  },
  {
   "cell_type": "code",
   "execution_count": null,
   "metadata": {},
   "outputs": [],
   "source": []
  }
 ],
 "metadata": {
  "kernelspec": {
   "display_name": "Python 3",
   "language": "python",
   "name": "python3"
  },
  "language_info": {
   "codemirror_mode": {
    "name": "ipython",
    "version": 3
   },
   "file_extension": ".py",
   "mimetype": "text/x-python",
   "name": "python",
   "nbconvert_exporter": "python",
   "pygments_lexer": "ipython3",
   "version": "3.6.8"
  }
 },
 "nbformat": 4,
 "nbformat_minor": 2
}
