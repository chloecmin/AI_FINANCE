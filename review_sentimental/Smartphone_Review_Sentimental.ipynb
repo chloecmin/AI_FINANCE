{
 "cells": [
  {
   "cell_type": "code",
   "execution_count": 1,
   "metadata": {
    "scrolled": true
   },
   "outputs": [],
   "source": [
    "import konlpy\n",
    "from konlpy.tag import Hannanum, Kkma, Komoran\n",
    "\n",
    "import sklearn\n",
    "from sklearn.feature_extraction.text import TfidfVectorizer\n",
    "from sklearn import svm\n",
    "from sklearn.tree import DecisionTreeClassifier\n",
    "from sklearn.ensemble import RandomForestClassifier\n",
    "from sklearn.ensemble import GradientBoostingClassifier\n",
    "from sklearn.metrics import accuracy_score\n",
    "from gensim.models.doc2vec import Doc2Vec\n",
    "from gensim.models.doc2vec import Doc2Vec, TaggedDocument\n",
    "from nltk.tokenize import word_tokenize\n",
    "from nltk.stem import WordNetLemmatizer\n",
    "from nltk.corpus import stopwords\n",
    "import nltk\n",
    "\n",
    "import re\n",
    "import sys\n",
    "import os\n",
    "import time\n",
    "import random\n",
    "import pandas as pd\n",
    "import numpy as np"
   ]
  },
  {
   "cell_type": "code",
   "execution_count": 2,
   "metadata": {},
   "outputs": [],
   "source": [
    "#감정분석용 데이터 불러오기\n",
    "train_data = pd.read_csv('data/english_train.csv',encoding='utf-8', engine='python', index_col=0)\n",
    "test_data = pd.read_csv('data/english_test.csv', encoding='utf-8', engine='python',index_col=0)"
   ]
  },
  {
   "cell_type": "code",
   "execution_count": 3,
   "metadata": {},
   "outputs": [],
   "source": [
    "# 전처리를 위해 데이터 합치기\n",
    "whole_data = pd.concat([train_data, test_data]).reset_index(drop=True)"
   ]
  },
  {
   "cell_type": "code",
   "execution_count": 4,
   "metadata": {},
   "outputs": [],
   "source": [
    "docs_tr = [re.sub(r\"\\%\\$ ?\\([^)]+\\)-\", \"\", x) for x in whole_data.reviews.values.tolist()]\n",
    "docs_tr = [re.sub(\"\\'\", \" \", x) for x in docs_tr]\n",
    "docs_tr = [re.sub('\\S*@\\S*\\s?', '', x) for x in docs_tr]\n",
    "docs_tr = [re.sub('\\s+', ' ', x) for x in docs_tr]\n",
    "docs_tr = [re.sub('[^\\w\\s]','',x) for x in docs_tr]"
   ]
  },
  {
   "cell_type": "code",
   "execution_count": 5,
   "metadata": {},
   "outputs": [],
   "source": [
    "whole_data.reviews = docs_tr"
   ]
  },
  {
   "cell_type": "code",
   "execution_count": 6,
   "metadata": {},
   "outputs": [
    {
     "name": "stderr",
     "output_type": "stream",
     "text": [
      "[nltk_data] Downloading package punkt to /Users/Cho/nltk_data...\n[nltk_data]   Package punkt is already up-to-date!\n"
     ]
    },
    {
     "data": {
      "text/plain": [
       "True"
      ]
     },
     "execution_count": 6,
     "metadata": {},
     "output_type": "execute_result"
    }
   ],
   "source": [
    "import ssl\n",
    "\n",
    "ssl._create_default_https_context = ssl._create_unverified_context\n",
    "\n",
    "nltk.download('punkt')"
   ]
  },
  {
   "cell_type": "code",
   "execution_count": 7,
   "metadata": {},
   "outputs": [],
   "source": [
    "#토큰화\n",
    "docs_tr = [word_tokenize(review) for review in whole_data.reviews.values.tolist()]"
   ]
  },
  {
   "cell_type": "code",
   "execution_count": 8,
   "metadata": {},
   "outputs": [
    {
     "name": "stderr",
     "output_type": "stream",
     "text": [
      "[nltk_data] Downloading package wordnet to /Users/Cho/nltk_data...\n[nltk_data]   Package wordnet is already up-to-date!\n"
     ]
    },
    {
     "data": {
      "text/plain": [
       "True"
      ]
     },
     "execution_count": 8,
     "metadata": {},
     "output_type": "execute_result"
    }
   ],
   "source": [
    "nltk.download('wordnet')"
   ]
  },
  {
   "cell_type": "code",
   "execution_count": 9,
   "metadata": {},
   "outputs": [],
   "source": [
    "# 표제어 추출\n",
    "lemmatizer = WordNetLemmatizer()\n",
    "lemm_docs_tr = [[lemmatizer.lemmatize(word) for word in doc] for doc in docs_tr]"
   ]
  },
  {
   "cell_type": "code",
   "execution_count": 10,
   "metadata": {},
   "outputs": [
    {
     "name": "stderr",
     "output_type": "stream",
     "text": [
      "[nltk_data] Downloading package stopwords to /Users/Cho/nltk_data...\n[nltk_data]   Package stopwords is already up-to-date!\n"
     ]
    },
    {
     "data": {
      "text/plain": [
       "True"
      ]
     },
     "execution_count": 10,
     "metadata": {},
     "output_type": "execute_result"
    }
   ],
   "source": [
    "nltk.download('stopwords'\n",
    ")"
   ]
  },
  {
   "cell_type": "code",
   "execution_count": 11,
   "metadata": {},
   "outputs": [],
   "source": [
    "#불용어 제거\n",
    "stop_words = stopwords.words('english')\n",
    "filtered_docs = [[w for w in doc if not w in stop_words] for doc in lemm_docs_tr]"
   ]
  },
  {
   "cell_type": "code",
   "execution_count": 12,
   "metadata": {},
   "outputs": [],
   "source": [
    "whole_data.reviews =filtered_docs"
   ]
  },
  {
   "cell_type": "code",
   "execution_count": 13,
   "metadata": {},
   "outputs": [],
   "source": [
    "tokens = [tok for sublist in filtered_docs for tok in sublist]"
   ]
  },
  {
   "cell_type": "code",
   "execution_count": 14,
   "metadata": {},
   "outputs": [],
   "source": [
    "# nltk 객체생성\n",
    "text=nltk.Text(tokens)"
   ]
  },
  {
   "cell_type": "code",
   "execution_count": 15,
   "metadata": {},
   "outputs": [
    {
     "name": "stdout",
     "output_type": "stream",
     "text": [
      "41166\n"
     ]
    }
   ],
   "source": [
    "print(len(set(text.tokens)))"
   ]
  },
  {
   "cell_type": "code",
   "execution_count": 16,
   "metadata": {
    "collapsed": true
   },
   "outputs": [
    {
     "name": "stdout",
     "output_type": "stream",
     "text": [
      "[('film', 10963), ('movie', 6854), ('one', 5756), ('wa', 4935), ('ha', 4747), ('character', 3853), ('like', 3651), ('time', 2849), ('get', 2785), ('scene', 2638)]\n"
     ]
    }
   ],
   "source": [
    "print(text.vocab().most_common(10))"
   ]
  },
  {
   "cell_type": "code",
   "execution_count": 17,
   "metadata": {},
   "outputs": [],
   "source": [
    "# TF-IDF 생성\n",
    "vectorizer = TfidfVectorizer(min_df = 5,\n",
    "                             max_df = 0.8,\n",
    "                             sublinear_tf = True,\n",
    "                             use_idf = True)"
   ]
  },
  {
   "cell_type": "code",
   "execution_count": 18,
   "metadata": {},
   "outputs": [],
   "source": [
    "train_docs = whole_data.reviews.values.tolist()[:len(train_data)]\n",
    "test_docs = whole_data.reviews.values.tolist()[-len(test_data):]"
   ]
  },
  {
   "cell_type": "code",
   "execution_count": 19,
   "metadata": {},
   "outputs": [],
   "source": [
    "train_docs = [' '.join(doc) for doc in train_docs]"
   ]
  },
  {
   "cell_type": "code",
   "execution_count": 20,
   "metadata": {},
   "outputs": [],
   "source": [
    "test_docs = [' '.join(doc) for doc in test_docs]"
   ]
  },
  {
   "cell_type": "code",
   "execution_count": 21,
   "metadata": {},
   "outputs": [],
   "source": [
    "train_x = vectorizer.fit_transform(train_docs)"
   ]
  },
  {
   "cell_type": "code",
   "execution_count": 22,
   "metadata": {},
   "outputs": [],
   "source": [
    "test_x = vectorizer.transform(test_docs)"
   ]
  },
  {
   "cell_type": "code",
   "execution_count": 23,
   "metadata": {},
   "outputs": [],
   "source": [
    "train_y = whole_data.sentiment.values.tolist()[:len(train_data)]\n",
    "test_y = whole_data.sentiment.values.tolist()[-len(test_data):]"
   ]
  },
  {
   "cell_type": "code",
   "execution_count": 24,
   "metadata": {},
   "outputs": [],
   "source": [
    "# SVM Linear 생성 성능이 제일 좋았음\n",
    "classifier_linear = svm.SVC(kernel='linear')\n",
    "classifier_linear.fit(train_x, train_y)\n",
    "prediction_linear = classifier_linear.predict(test_x)"
   ]
  },
  {
   "cell_type": "code",
   "execution_count": 25,
   "metadata": {},
   "outputs": [
    {
     "name": "stdout",
     "output_type": "stream",
     "text": [
      "0.905\n"
     ]
    }
   ],
   "source": [
    "print(accuracy_score(test_y, prediction_linear))"
   ]
  },
  {
   "cell_type": "markdown",
   "metadata": {},
   "source": [
    "# 모델 생성 완료 후 리뷰데이터 가져와서 학습된 모델로 감정분석해보기"
   ]
  },
  {
   "cell_type": "code",
   "execution_count": 26,
   "metadata": {},
   "outputs": [],
   "source": [
    "# 리뷰 파일 가져오기\n",
    "\n",
    "i7_csv = pd.read_csv('[Textmining]review_galaxy_iphone_use/GSMArena/data_from_GSMArena_i7_test.csv')\n",
    "\n",
    "S8_csv = pd.read_csv('[Textmining]review_galaxy_iphone_use/GSMArena/data_from_GSMArena_S8_test.csv')"
   ]
  },
  {
   "cell_type": "code",
   "execution_count": 27,
   "metadata": {},
   "outputs": [],
   "source": [
    "# 리뷰만 다 읽어와\n",
    "# i[1:] 한 이유는 맨앞에 b를제거하기 위해서 엑셀에 보면 맨앞에 b가 붙어있음 byte데이터라서\n",
    "\n",
    "i7_reviews = [ i[1:] for i in i7_csv['Text']]\n",
    "S8_reviews = [ i[1:] for i in S8_csv['Text']]"
   ]
  },
  {
   "cell_type": "code",
   "execution_count": 28,
   "metadata": {},
   "outputs": [],
   "source": [
    "# 전처리 특문 다 빼고 흔한단어 iphone, galaxy 같은거 뺌\n",
    "\n",
    "i7_reviews_data = [re.sub(r\"\\%\\$ ?\\([^)]+\\)-\", \"\", x) for x in i7_reviews]\n",
    "i7_reviews_data = [re.sub(\"\\'\", \" \", x) for x in i7_reviews_data]\n",
    "i7_reviews_data = [re.sub('\\S*@\\S*\\s?', '', x) for x in i7_reviews_data]\n",
    "i7_reviews_data = [re.sub('\\s+', ' ', x) for x in i7_reviews_data]\n",
    "i7_reviews_data = [re.sub('[^\\w\\s]','',x) for x in i7_reviews_data]\n",
    "i7_reviews_data = [x.lower() for x in i7_reviews_data]\n",
    "i7_reviews_data = [re.sub('(iphone|phone|apple|galaxy|android|samsung|7)','',x) for x in i7_reviews_data]\n",
    "\n",
    "S8_reviews_data = [re.sub(r\"\\%\\$ ?\\([^)]+\\)-\", \"\", x) for x in S8_reviews]\n",
    "S8_reviews_data = [re.sub(\"\\'\", \" \", x) for x in S8_reviews_data]\n",
    "S8_reviews_data = [re.sub('\\S*@\\S*\\s?', '', x) for x in S8_reviews_data]\n",
    "S8_reviews_data = [re.sub('\\s+', ' ', x) for x in S8_reviews_data]\n",
    "S8_reviews_data = [re.sub('[^\\w\\s]','',x) for x in S8_reviews_data]\n",
    "S8_reviews_data = [x.lower() for x in S8_reviews_data]\n",
    "S8_reviews_data = [re.sub('(iphone|phone|apple|galaxy|android|samsung|7)','',x) for x in S8_reviews_data]"
   ]
  },
  {
   "cell_type": "code",
   "execution_count": 29,
   "metadata": {},
   "outputs": [],
   "source": [
    "# tokenize 띄어쓰기로 나눈다\n",
    "\n",
    "i7_tokens = [word_tokenize(review) for review in i7_reviews_data]\n",
    "S8_tokens = [word_tokenize(review) for review in S8_reviews_data]"
   ]
  },
  {
   "cell_type": "code",
   "execution_count": 30,
   "metadata": {},
   "outputs": [],
   "source": [
    "# lemmatizer(표제어추출)\n",
    "\n",
    "lemmatizer = WordNetLemmatizer()\n",
    "i7_lemm = [[lemmatizer.lemmatize(word) for word in doc] for doc in i7_tokens]\n",
    "S8_lemm = [[lemmatizer.lemmatize(word) for word in doc] for doc in S8_tokens]"
   ]
  },
  {
   "cell_type": "code",
   "execution_count": 31,
   "metadata": {},
   "outputs": [],
   "source": [
    "# stopword 제거 불용어 제거하기 비동사나 관사가 빠진다\n",
    "\n",
    "stop_words = stopwords.words('english')\n",
    "filtered_i7 = [[w for w in doc if not w in stop_words] for doc in i7_lemm]\n",
    "filtered_S8 = [[w for w in doc if not w in stop_words] for doc in S8_lemm]"
   ]
  },
  {
   "cell_type": "code",
   "execution_count": 32,
   "metadata": {},
   "outputs": [],
   "source": [
    "# 감정분석에 사용했던 TF-IDF vectorizer를 가져와서 적용한다\n",
    "\n",
    "i7_joined = [' '.join(doc) for doc in filtered_i7]\n",
    "tfidf_i7 = vectorizer.transform(i7_joined)\n",
    "S8_joined = [' '.join(doc) for doc in filtered_S8]\n",
    "tfidf_S8 = vectorizer.transform(S8_joined)"
   ]
  },
  {
   "cell_type": "code",
   "execution_count": 33,
   "metadata": {},
   "outputs": [],
   "source": [
    "i7_predict = classifier_linear.predict(tfidf_i7)\n",
    "S8_predict = classifier_linear.predict(tfidf_S8)"
   ]
  },
  {
   "cell_type": "code",
   "execution_count": 34,
   "metadata": {},
   "outputs": [],
   "source": [
    "i7_labeled = []\n",
    "S8_labeled = []\n",
    "\n",
    "for i in range(len(i7_reviews_data)):\n",
    "    i7_labeled.append([i7_reviews[i], i7_predict[i]])\n",
    "for i in range(len(S8_reviews_data)):\n",
    "    S8_labeled.append([S8_reviews[i], S8_predict[i]])"
   ]
  },
  {
   "cell_type": "code",
   "execution_count": 35,
   "metadata": {},
   "outputs": [],
   "source": [
    "# 감정분석 데이터 보기\n",
    "\n",
    "i7_labeled = pd.DataFrame(i7_labeled, columns=['Review','Sentimental'])\n",
    "S8_labeled = pd.DataFrame(S8_labeled, columns=['Review','Sentimental'])"
   ]
  },
  {
   "cell_type": "code",
   "execution_count": 36,
   "metadata": {},
   "outputs": [
    {
     "data": {
      "text/html": [
       "<div>\n",
       "<style scoped>\n",
       "    .dataframe tbody tr th:only-of-type {\n",
       "        vertical-align: middle;\n",
       "    }\n",
       "\n",
       "    .dataframe tbody tr th {\n",
       "        vertical-align: top;\n",
       "    }\n",
       "\n",
       "    .dataframe thead th {\n",
       "        text-align: right;\n",
       "    }\n",
       "</style>\n",
       "<table border=\"1\" class=\"dataframe\">\n",
       "  <thead>\n",
       "    <tr style=\"text-align: right;\">\n",
       "      <th></th>\n",
       "      <th>Review</th>\n",
       "      <th>Sentimental</th>\n",
       "    </tr>\n",
       "  </thead>\n",
       "  <tbody>\n",
       "    <tr>\n",
       "      <td>0</td>\n",
       "      <td>'Which is a better option 6s plus or iPhone 7D...</td>\n",
       "      <td>-1</td>\n",
       "    </tr>\n",
       "    <tr>\n",
       "      <td>1</td>\n",
       "      <td>'Which is a better option 6s plus or iPhone 77+'</td>\n",
       "      <td>-1</td>\n",
       "    </tr>\n",
       "    <tr>\n",
       "      <td>2</td>\n",
       "      <td>'I want to buy 7 32 gb.. \\r\\nIs it ok guys... ...</td>\n",
       "      <td>1</td>\n",
       "    </tr>\n",
       "    <tr>\n",
       "      <td>3</td>\n",
       "      <td>'Only true on poor countries. When people are ...</td>\n",
       "      <td>-1</td>\n",
       "    </tr>\n",
       "    <tr>\n",
       "      <td>4</td>\n",
       "      <td>'Which is a better option 6s plus or iPhone 7'</td>\n",
       "      <td>-1</td>\n",
       "    </tr>\n",
       "    <tr>\n",
       "      <td>...</td>\n",
       "      <td>...</td>\n",
       "      <td>...</td>\n",
       "    </tr>\n",
       "    <tr>\n",
       "      <td>3175</td>\n",
       "      <td>\"It can't be a hexacore. Highest will be a qua...</td>\n",
       "      <td>-1</td>\n",
       "    </tr>\n",
       "    <tr>\n",
       "      <td>3176</td>\n",
       "      <td>'The size of this phone can\\'t be 4.7\". We sho...</td>\n",
       "      <td>-1</td>\n",
       "    </tr>\n",
       "    <tr>\n",
       "      <td>3177</td>\n",
       "      <td>'I buy lumia 640 for $20  clearance runs like ...</td>\n",
       "      <td>-1</td>\n",
       "    </tr>\n",
       "    <tr>\n",
       "      <td>3178</td>\n",
       "      <td>'720p display in 2016 .. Hahahhaha i am writin...</td>\n",
       "      <td>-1</td>\n",
       "    </tr>\n",
       "    <tr>\n",
       "      <td>3179</td>\n",
       "      <td>'Ditching 3.5 mm jack to make the phone slimme...</td>\n",
       "      <td>-1</td>\n",
       "    </tr>\n",
       "  </tbody>\n",
       "</table>\n",
       "<p>3180 rows × 2 columns</p>\n",
       "</div>"
      ],
      "text/plain": [
       "<div>\n",
       "<style scoped>\n",
       "    .dataframe tbody tr th:only-of-type {\n",
       "        vertical-align: middle;\n",
       "    }\n",
       "\n",
       "    .dataframe tbody tr th {\n",
       "        vertical-align: top;\n",
       "    }\n",
       "\n",
       "    .dataframe thead th {\n",
       "        text-align: right;\n",
       "    }\n",
       "</style>\n",
       "<table border=\"1\" class=\"dataframe\">\n",
       "  <thead>\n",
       "    <tr style=\"text-align: right;\">\n",
       "      <th></th>\n",
       "      <th>Review</th>\n",
       "      <th>Sentimental</th>\n",
       "    </tr>\n",
       "  </thead>\n",
       "  <tbody>\n",
       "    <tr>\n",
       "      <td>0</td>\n",
       "      <td>'Which is a better option 6s plus or iPhone 7D...</td>\n",
       "      <td>-1</td>\n",
       "    </tr>\n",
       "    <tr>\n",
       "      <td>1</td>\n",
       "      <td>'Which is a better option 6s plus or iPhone 77+'</td>\n",
       "      <td>-1</td>\n",
       "    </tr>\n",
       "    <tr>\n",
       "      <td>2</td>\n",
       "      <td>'I want to buy 7 32 gb.. \\r\\nIs it ok guys... ...</td>\n",
       "      <td>1</td>\n",
       "    </tr>\n",
       "    <tr>\n",
       "      <td>3</td>\n",
       "      <td>'Only true on poor countries. When people are ...</td>\n",
       "      <td>-1</td>\n",
       "    </tr>\n",
       "    <tr>\n",
       "      <td>4</td>\n",
       "      <td>'Which is a better option 6s plus or iPhone 7'</td>\n",
       "      <td>-1</td>\n",
       "    </tr>\n",
       "    <tr>\n",
       "      <td>...</td>\n",
       "      <td>...</td>\n",
       "      <td>...</td>\n",
       "    </tr>\n",
       "    <tr>\n",
       "      <td>3175</td>\n",
       "      <td>\"It can't be a hexacore. Highest will be a qua...</td>\n",
       "      <td>-1</td>\n",
       "    </tr>\n",
       "    <tr>\n",
       "      <td>3176</td>\n",
       "      <td>'The size of this phone can\\'t be 4.7\". We sho...</td>\n",
       "      <td>-1</td>\n",
       "    </tr>\n",
       "    <tr>\n",
       "      <td>3177</td>\n",
       "      <td>'I buy lumia 640 for $20  clearance runs like ...</td>\n",
       "      <td>-1</td>\n",
       "    </tr>\n",
       "    <tr>\n",
       "      <td>3178</td>\n",
       "      <td>'720p display in 2016 .. Hahahhaha i am writin...</td>\n",
       "      <td>-1</td>\n",
       "    </tr>\n",
       "    <tr>\n",
       "      <td>3179</td>\n",
       "      <td>'Ditching 3.5 mm jack to make the phone slimme...</td>\n",
       "      <td>-1</td>\n",
       "    </tr>\n",
       "  </tbody>\n",
       "</table>\n",
       "<p>3180 rows × 2 columns</p>\n",
       "</div>"
      ]
     },
     "execution_count": 36,
     "metadata": {},
     "output_type": "execute_result"
    }
   ],
   "source": [
    "i7_labeled"
   ]
  },
  {
   "cell_type": "code",
   "execution_count": 37,
   "metadata": {},
   "outputs": [
    {
     "data": {
      "text/html": [
       "<div>\n",
       "<style scoped>\n",
       "    .dataframe tbody tr th:only-of-type {\n",
       "        vertical-align: middle;\n",
       "    }\n",
       "\n",
       "    .dataframe tbody tr th {\n",
       "        vertical-align: top;\n",
       "    }\n",
       "\n",
       "    .dataframe thead th {\n",
       "        text-align: right;\n",
       "    }\n",
       "</style>\n",
       "<table border=\"1\" class=\"dataframe\">\n",
       "  <thead>\n",
       "    <tr style=\"text-align: right;\">\n",
       "      <th></th>\n",
       "      <th>Review</th>\n",
       "      <th>Sentimental</th>\n",
       "    </tr>\n",
       "  </thead>\n",
       "  <tbody>\n",
       "    <tr>\n",
       "      <td>7</td>\n",
       "      <td>\"iPhones are known for future proof n long las...</td>\n",
       "      <td>1</td>\n",
       "    </tr>\n",
       "    <tr>\n",
       "      <td>11</td>\n",
       "      <td>\"True S8 is the best looking phone with all th...</td>\n",
       "      <td>1</td>\n",
       "    </tr>\n",
       "    <tr>\n",
       "      <td>14</td>\n",
       "      <td>\"Bro, even the fingerprint scanner can be hack...</td>\n",
       "      <td>1</td>\n",
       "    </tr>\n",
       "    <tr>\n",
       "      <td>22</td>\n",
       "      <td>'using this device about 7 days onword. no iss...</td>\n",
       "      <td>1</td>\n",
       "    </tr>\n",
       "    <tr>\n",
       "      <td>24</td>\n",
       "      <td>'Samsung should also work in compact mini phon...</td>\n",
       "      <td>1</td>\n",
       "    </tr>\n",
       "    <tr>\n",
       "      <td>...</td>\n",
       "      <td>...</td>\n",
       "      <td>...</td>\n",
       "    </tr>\n",
       "    <tr>\n",
       "      <td>2874</td>\n",
       "      <td>\"jaja plase don't be so stupid first of all 24...</td>\n",
       "      <td>1</td>\n",
       "    </tr>\n",
       "    <tr>\n",
       "      <td>2875</td>\n",
       "      <td>'2 days after buying the s7 now they planned t...</td>\n",
       "      <td>1</td>\n",
       "    </tr>\n",
       "    <tr>\n",
       "      <td>2877</td>\n",
       "      <td>'after oneplus 3 lunch samsung wants to sale s...</td>\n",
       "      <td>1</td>\n",
       "    </tr>\n",
       "    <tr>\n",
       "      <td>2880</td>\n",
       "      <td>\"Still no signs of IR Blaster! What's wrong wi...</td>\n",
       "      <td>1</td>\n",
       "    </tr>\n",
       "    <tr>\n",
       "      <td>2881</td>\n",
       "      <td>'Why not using SUHD screen display'</td>\n",
       "      <td>1</td>\n",
       "    </tr>\n",
       "  </tbody>\n",
       "</table>\n",
       "<p>903 rows × 2 columns</p>\n",
       "</div>"
      ],
      "text/plain": [
       "<div>\n",
       "<style scoped>\n",
       "    .dataframe tbody tr th:only-of-type {\n",
       "        vertical-align: middle;\n",
       "    }\n",
       "\n",
       "    .dataframe tbody tr th {\n",
       "        vertical-align: top;\n",
       "    }\n",
       "\n",
       "    .dataframe thead th {\n",
       "        text-align: right;\n",
       "    }\n",
       "</style>\n",
       "<table border=\"1\" class=\"dataframe\">\n",
       "  <thead>\n",
       "    <tr style=\"text-align: right;\">\n",
       "      <th></th>\n",
       "      <th>Review</th>\n",
       "      <th>Sentimental</th>\n",
       "    </tr>\n",
       "  </thead>\n",
       "  <tbody>\n",
       "    <tr>\n",
       "      <td>7</td>\n",
       "      <td>\"iPhones are known for future proof n long las...</td>\n",
       "      <td>1</td>\n",
       "    </tr>\n",
       "    <tr>\n",
       "      <td>11</td>\n",
       "      <td>\"True S8 is the best looking phone with all th...</td>\n",
       "      <td>1</td>\n",
       "    </tr>\n",
       "    <tr>\n",
       "      <td>14</td>\n",
       "      <td>\"Bro, even the fingerprint scanner can be hack...</td>\n",
       "      <td>1</td>\n",
       "    </tr>\n",
       "    <tr>\n",
       "      <td>22</td>\n",
       "      <td>'using this device about 7 days onword. no iss...</td>\n",
       "      <td>1</td>\n",
       "    </tr>\n",
       "    <tr>\n",
       "      <td>24</td>\n",
       "      <td>'Samsung should also work in compact mini phon...</td>\n",
       "      <td>1</td>\n",
       "    </tr>\n",
       "    <tr>\n",
       "      <td>...</td>\n",
       "      <td>...</td>\n",
       "      <td>...</td>\n",
       "    </tr>\n",
       "    <tr>\n",
       "      <td>2874</td>\n",
       "      <td>\"jaja plase don't be so stupid first of all 24...</td>\n",
       "      <td>1</td>\n",
       "    </tr>\n",
       "    <tr>\n",
       "      <td>2875</td>\n",
       "      <td>'2 days after buying the s7 now they planned t...</td>\n",
       "      <td>1</td>\n",
       "    </tr>\n",
       "    <tr>\n",
       "      <td>2877</td>\n",
       "      <td>'after oneplus 3 lunch samsung wants to sale s...</td>\n",
       "      <td>1</td>\n",
       "    </tr>\n",
       "    <tr>\n",
       "      <td>2880</td>\n",
       "      <td>\"Still no signs of IR Blaster! What's wrong wi...</td>\n",
       "      <td>1</td>\n",
       "    </tr>\n",
       "    <tr>\n",
       "      <td>2881</td>\n",
       "      <td>'Why not using SUHD screen display'</td>\n",
       "      <td>1</td>\n",
       "    </tr>\n",
       "  </tbody>\n",
       "</table>\n",
       "<p>903 rows × 2 columns</p>\n",
       "</div>"
      ]
     },
     "execution_count": 37,
     "metadata": {},
     "output_type": "execute_result"
    }
   ],
   "source": [
    "S8_labeled[S8_labeled.Sentimental==1]"
   ]
  },
  {
   "cell_type": "code",
   "execution_count": 38,
   "metadata": {},
   "outputs": [],
   "source": [
    "# Convert the dataframe to an XlsxWriter Excel object.\n",
    "i7_labeled.to_excel(r'./Review_senti_i7.xlsx')\n",
    "# Convert the dataframe to an XlsxWriter Excel object.\n",
    "S8_labeled.to_excel(r'./Review_senti_S8.xlsx')"
   ]
  },
  {
   "cell_type": "code",
   "execution_count": null,
   "metadata": {},
   "outputs": [],
   "source": [
    ""
   ]
  }
 ],
 "metadata": {
  "kernelspec": {
   "display_name": "Python 3",
   "language": "python",
   "name": "python3"
  },
  "language_info": {
   "codemirror_mode": {
    "name": "ipython",
    "version": 3.0
   },
   "file_extension": ".py",
   "mimetype": "text/x-python",
   "name": "python",
   "nbconvert_exporter": "python",
   "pygments_lexer": "ipython3",
   "version": "3.6.7"
  }
 },
 "nbformat": 4,
 "nbformat_minor": 0
}